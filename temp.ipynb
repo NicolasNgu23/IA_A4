{
 "cells": [
  {
   "cell_type": "code",
   "execution_count": 72,
   "id": "1adb2fa2",
   "metadata": {},
   "outputs": [
    {
     "name": "stdout",
     "output_type": "stream",
     "text": [
      "Requirement already satisfied: pandas in ./.venv/lib/python3.12/site-packages (2.3.0)\n",
      "Requirement already satisfied: numpy>=1.26.0 in ./.venv/lib/python3.12/site-packages (from pandas) (2.3.1)\n",
      "Requirement already satisfied: python-dateutil>=2.8.2 in ./.venv/lib/python3.12/site-packages (from pandas) (2.9.0.post0)\n",
      "Requirement already satisfied: pytz>=2020.1 in ./.venv/lib/python3.12/site-packages (from pandas) (2025.2)\n",
      "Requirement already satisfied: tzdata>=2022.7 in ./.venv/lib/python3.12/site-packages (from pandas) (2025.2)\n",
      "Requirement already satisfied: six>=1.5 in ./.venv/lib/python3.12/site-packages (from python-dateutil>=2.8.2->pandas) (1.17.0)\n",
      "Note: you may need to restart the kernel to use updated packages.\n",
      "Requirement already satisfied: onnx in ./.venv/lib/python3.12/site-packages (1.18.0)\n",
      "Requirement already satisfied: numpy>=1.22 in ./.venv/lib/python3.12/site-packages (from onnx) (2.3.1)\n",
      "Requirement already satisfied: protobuf>=4.25.1 in ./.venv/lib/python3.12/site-packages (from onnx) (6.31.1)\n",
      "Requirement already satisfied: typing_extensions>=4.7.1 in ./.venv/lib/python3.12/site-packages (from onnx) (4.14.0)\n",
      "Note: you may need to restart the kernel to use updated packages.\n"
     ]
    }
   ],
   "source": [
    "%pip install pandas\n",
    "%pip install onnx"
   ]
  },
  {
   "cell_type": "code",
   "execution_count": 73,
   "id": "0a1c3fca",
   "metadata": {},
   "outputs": [],
   "source": [
    "import torch\n",
    "import torch.onnx\n",
    "from torch import nn\n",
    "from torch.utils.data import DataLoader\n",
    "from torchvision import datasets\n",
    "from torchvision.transforms import ToTensor\n",
    "import time\n",
    "from torch.utils.tensorboard import SummaryWriter\n",
    "writer = SummaryWriter(f\"runs/training_experiment_{int(time.time())}\")\n",
    "\n",
    "import torch.nn.functional as F"
   ]
  },
  {
   "cell_type": "code",
   "execution_count": 74,
   "id": "fc143454",
   "metadata": {},
   "outputs": [],
   "source": [
    "training_data = datasets.MNIST(\n",
    "    root=\"data\",\n",
    "    train=True,\n",
    "    download=True,\n",
    "    transform=ToTensor(),\n",
    ")\n",
    "\n",
    "test_data = datasets.MNIST(\n",
    "    root=\"data\",\n",
    "    train=False,\n",
    "    download=True,\n",
    "    transform=ToTensor(),\n",
    ")"
   ]
  },
  {
   "cell_type": "code",
   "execution_count": 75,
   "id": "d2438ed7",
   "metadata": {},
   "outputs": [
    {
     "name": "stdout",
     "output_type": "stream",
     "text": [
      "tensor(0.) tensor(1.)\n",
      "tensor([7, 2, 1, 0, 4, 1, 4, 9, 5, 9, 0, 6, 9, 0, 1, 5, 9, 7, 3, 4, 9, 6, 6, 5,\n",
      "        4, 0, 7, 4, 0, 1, 3, 1, 3, 4, 7, 2, 7, 1, 2, 1, 1, 7, 4, 2, 3, 5, 1, 2,\n",
      "        4, 4, 6, 3, 5, 5, 6, 0, 4, 1, 9, 5, 7, 8, 9, 3])\n",
      "Shape of X [N, C, H, W]: torch.Size([64, 1, 28, 28])\n",
      "Shape of y: torch.Size([64]) torch.int64\n"
     ]
    }
   ],
   "source": [
    "batch_size = 64\n",
    "\n",
    "# Create data loaders.\n",
    "train_dataloader = DataLoader(training_data, batch_size=batch_size)\n",
    "test_dataloader = DataLoader(test_data, batch_size=batch_size)\n",
    "\n",
    "for X, y in test_dataloader:\n",
    "    print(X.min(), X.max())\n",
    "    print(y)\n",
    "    print(f\"Shape of X [N, C, H, W]: {X.shape}\")\n",
    "    print(f\"Shape of y: {y.shape} {y.dtype}\")\n",
    "    break"
   ]
  },
  {
   "cell_type": "code",
   "execution_count": 76,
   "id": "f7f8e99a",
   "metadata": {},
   "outputs": [
    {
     "name": "stdout",
     "output_type": "stream",
     "text": [
      "Using mps device\n",
      "FashionCNN(\n",
      "  (conv1): Conv2d(1, 32, kernel_size=(3, 3), stride=(1, 1), padding=(1, 1))\n",
      "  (pool): MaxPool2d(kernel_size=2, stride=2, padding=0, dilation=1, ceil_mode=False)\n",
      "  (conv2): Conv2d(32, 64, kernel_size=(3, 3), stride=(1, 1), padding=(1, 1))\n",
      "  (fc1): Linear(in_features=3136, out_features=128, bias=True)\n",
      "  (fc2): Linear(in_features=128, out_features=128, bias=True)\n",
      "  (fc3): Linear(in_features=128, out_features=10, bias=True)\n",
      ")\n"
     ]
    }
   ],
   "source": [
    "device = torch.accelerator.current_accelerator().type if torch.accelerator.is_available() else \"cpu\"\n",
    "print(f\"Using {device} device\")\n",
    "\n",
    "class FashionCNN(nn.Module):\n",
    "    def __init__(self):\n",
    "        super(FashionCNN, self).__init__()\n",
    "        self.conv1 = nn.Conv2d(1, 32, kernel_size=3, padding=1)\n",
    "        self.pool = nn.MaxPool2d(2, 2)\n",
    "        self.conv2 = nn.Conv2d(32, 64, kernel_size=3, padding=1)\n",
    "\n",
    "        self.fc1 = nn.Linear(64 * 7 * 7, 128)\n",
    "        self.fc2 = nn.Linear(128, 128)\n",
    "        self.fc3 = nn.Linear(128, 10)\n",
    "\n",
    "    def forward(self, x):\n",
    "        x = self.pool(F.relu(self.conv1(x)))\n",
    "        x = self.pool(F.relu(self.conv2(x)))\n",
    "        x = x.view(-1, 64 * 7 * 7)\n",
    "        x = F.relu(self.fc1(x))\n",
    "        x = F.dropout(x, 0.2, training=self.training)\n",
    "        x = F.relu(self.fc2(x))\n",
    "        x = F.dropout(x, 0.2, training=self.training)\n",
    "        x = self.fc3(x)\n",
    "        return x\n",
    "\n",
    "model = FashionCNN().to(device)\n",
    "print(model)"
   ]
  },
  {
   "cell_type": "code",
   "execution_count": 77,
   "id": "2c261e8a",
   "metadata": {},
   "outputs": [],
   "source": [
    "loss_fn = nn.CrossEntropyLoss()\n",
    "optimizer = torch.optim.AdamW(model.parameters(), lr=1e-3)"
   ]
  },
  {
   "cell_type": "code",
   "execution_count": 78,
   "id": "5f28c7c6",
   "metadata": {},
   "outputs": [],
   "source": [
    "from torch.utils.tensorboard import SummaryWriter\n",
    "writer = SummaryWriter(\"runs/training_experiment\")\n",
    "\n",
    "def train(dataloader, model, loss_fn, optimizer, epoch):\n",
    "    size = len(dataloader.dataset)\n",
    "    model.train()\n",
    "    for batch, (X, y) in enumerate(dataloader):\n",
    "        X, y = X.to(device), y.to(device)\n",
    "\n",
    "\n",
    "        pred = model(X)\n",
    "        loss = loss_fn(pred, y)\n",
    "\n",
    "\n",
    "        loss.backward()\n",
    "        optimizer.step()\n",
    "        optimizer.zero_grad()\n",
    "\n",
    "\n",
    "        predicted = pred.argmax(dim=1)\n",
    "        correct = (predicted == y).sum().item()\n",
    "        accuracy = correct / y.size(0)\n",
    "\n",
    "\n",
    "        step = epoch * len(dataloader) + batch\n",
    "        writer.add_scalar(\"Loss/train\", loss.item(), step)\n",
    "        writer.add_scalar(\"Accuracy/train\", accuracy, step)\n",
    "\n",
    "\n",
    "        if batch % 100 == 0:\n",
    "            loss_value, current = loss.item(), (batch + 1) * len(X)\n",
    "            print(f\"loss: {loss_value:>7f}  [{current:>5d}/{size:>5d}] accuracy: {accuracy:.4f}\")"
   ]
  },
  {
   "cell_type": "code",
   "execution_count": 79,
   "id": "7fbbd284",
   "metadata": {},
   "outputs": [],
   "source": [
    "def test(dataloader, model, loss_fn, epochs):\n",
    "    size = len(dataloader.dataset)\n",
    "    num_batches = len(dataloader)\n",
    "    model.eval()\n",
    "    test_loss, correct = 0, 0\n",
    "\n",
    "    with torch.no_grad():\n",
    "        for X, y in dataloader:\n",
    "            X, y = X.to(device), y.to(device)\n",
    "            pred = model(X)\n",
    "            test_loss += loss_fn(pred, y).item()\n",
    "            correct += (pred.argmax(1) == y).type(torch.float).sum().item()\n",
    "            accuracy = correct / size\n",
    "            writer.add_scalar(\"Accuracy/test\", accuracy, epochs)\n",
    "\n",
    "    test_loss /= num_batches\n",
    "    correct /= size\n",
    "    print(f\"Test Error: \\n Accuracy: {(100*correct):>0.1f}%, Avg loss: {test_loss:>8f} \\n\")"
   ]
  },
  {
   "cell_type": "code",
   "execution_count": 80,
   "id": "24aab972",
   "metadata": {},
   "outputs": [
    {
     "name": "stdout",
     "output_type": "stream",
     "text": [
      "Epoch 1\n",
      "-------------------------------\n",
      "loss: 2.303984  [   64/60000] accuracy: 0.1250\n",
      "loss: 0.331310  [ 6464/60000] accuracy: 0.8750\n",
      "loss: 0.193615  [12864/60000] accuracy: 0.8906\n",
      "loss: 0.192881  [19264/60000] accuracy: 0.9688\n",
      "loss: 0.189661  [25664/60000] accuracy: 0.9219\n",
      "loss: 0.092906  [32064/60000] accuracy: 0.9844\n",
      "loss: 0.082677  [38464/60000] accuracy: 0.9688\n",
      "loss: 0.236503  [44864/60000] accuracy: 0.9375\n",
      "loss: 0.158102  [51264/60000] accuracy: 0.9844\n",
      "loss: 0.138234  [57664/60000] accuracy: 0.9531\n",
      "Test Error: \n",
      " Accuracy: 97.4%, Avg loss: 0.085810 \n",
      "\n",
      "Epoch 2\n",
      "-------------------------------\n",
      "loss: 0.054054  [   64/60000] accuracy: 0.9688\n",
      "loss: 0.138822  [ 6464/60000] accuracy: 0.9688\n",
      "loss: 0.022058  [12864/60000] accuracy: 1.0000\n",
      "loss: 0.070928  [19264/60000] accuracy: 0.9844\n",
      "loss: 0.113979  [25664/60000] accuracy: 0.9688\n",
      "loss: 0.151819  [32064/60000] accuracy: 0.9531\n",
      "loss: 0.077739  [38464/60000] accuracy: 0.9844\n",
      "loss: 0.157055  [44864/60000] accuracy: 0.9688\n",
      "loss: 0.174534  [51264/60000] accuracy: 0.9531\n",
      "loss: 0.127599  [57664/60000] accuracy: 0.9531\n",
      "Test Error: \n",
      " Accuracy: 98.4%, Avg loss: 0.056269 \n",
      "\n",
      "Epoch 3\n",
      "-------------------------------\n",
      "loss: 0.051153  [   64/60000] accuracy: 0.9688\n",
      "loss: 0.077671  [ 6464/60000] accuracy: 0.9844\n",
      "loss: 0.016904  [12864/60000] accuracy: 1.0000\n",
      "loss: 0.024413  [19264/60000] accuracy: 1.0000\n",
      "loss: 0.037406  [25664/60000] accuracy: 0.9844\n",
      "loss: 0.027115  [32064/60000] accuracy: 1.0000\n",
      "loss: 0.055052  [38464/60000] accuracy: 0.9844\n",
      "loss: 0.084657  [44864/60000] accuracy: 0.9844\n",
      "loss: 0.136131  [51264/60000] accuracy: 0.9844\n",
      "loss: 0.065103  [57664/60000] accuracy: 0.9844\n",
      "Test Error: \n",
      " Accuracy: 98.9%, Avg loss: 0.035167 \n",
      "\n",
      "Epoch 4\n",
      "-------------------------------\n",
      "loss: 0.016511  [   64/60000] accuracy: 1.0000\n",
      "loss: 0.067696  [ 6464/60000] accuracy: 0.9688\n",
      "loss: 0.034487  [12864/60000] accuracy: 1.0000\n",
      "loss: 0.100855  [19264/60000] accuracy: 0.9844\n",
      "loss: 0.016777  [25664/60000] accuracy: 1.0000\n",
      "loss: 0.008533  [32064/60000] accuracy: 1.0000\n",
      "loss: 0.068141  [38464/60000] accuracy: 0.9844\n",
      "loss: 0.054764  [44864/60000] accuracy: 0.9844\n",
      "loss: 0.170088  [51264/60000] accuracy: 0.9688\n",
      "loss: 0.004842  [57664/60000] accuracy: 1.0000\n",
      "Test Error: \n",
      " Accuracy: 98.9%, Avg loss: 0.036544 \n",
      "\n",
      "Epoch 5\n",
      "-------------------------------\n",
      "loss: 0.035213  [   64/60000] accuracy: 1.0000\n",
      "loss: 0.034987  [ 6464/60000] accuracy: 0.9844\n",
      "loss: 0.057913  [12864/60000] accuracy: 0.9688\n",
      "loss: 0.071521  [19264/60000] accuracy: 0.9844\n",
      "loss: 0.035481  [25664/60000] accuracy: 0.9688\n",
      "loss: 0.038244  [32064/60000] accuracy: 0.9844\n",
      "loss: 0.034752  [38464/60000] accuracy: 0.9844\n",
      "loss: 0.073410  [44864/60000] accuracy: 0.9531\n",
      "loss: 0.051810  [51264/60000] accuracy: 0.9844\n",
      "loss: 0.031785  [57664/60000] accuracy: 0.9844\n",
      "Test Error: \n",
      " Accuracy: 99.0%, Avg loss: 0.030828 \n",
      "\n",
      "Done!\n"
     ]
    }
   ],
   "source": [
    "import torch.nn.functional as F\n",
    "\n",
    "epochs = 5\n",
    "for t in range(epochs):\n",
    "    print(f\"Epoch {t+1}\\n-------------------------------\")\n",
    "    train(train_dataloader, model, loss_fn, optimizer, t)\n",
    "    test(test_dataloader, model, loss_fn, t)\n",
    "writer.close()\n",
    "print(\"Done!\")"
   ]
  },
  {
   "cell_type": "code",
   "execution_count": 81,
   "id": "a49cb14e",
   "metadata": {},
   "outputs": [
    {
     "name": "stdout",
     "output_type": "stream",
     "text": [
      "Saved PyTorch Model State to model.pth\n"
     ]
    }
   ],
   "source": [
    "torch.save(model.state_dict(), \"model.pth\")\n",
    "print(\"Saved PyTorch Model State to model.pth\")"
   ]
  },
  {
   "cell_type": "code",
   "execution_count": 82,
   "id": "212f721f",
   "metadata": {},
   "outputs": [],
   "source": [
    "import torch\n",
    "\n",
    "dummy_input = torch.randn(1, 1, 28, 28).to(device)\n",
    "\n",
    "model.eval()\n",
    "\n",
    "dummy_input = torch.randn(1, 1, 28, 28).to(device)\n",
    "\n",
    "torch.onnx.export(\n",
    "    model,\n",
    "    dummy_input,\n",
    "    \"cnn.onnx\",\n",
    "    input_names=[\"input\"],\n",
    "    output_names=[\"output\"],\n",
    "    dynamic_axes={\"input\": {0: \"batch_size\"}, \"output\": {0: \"batch_size\"}},\n",
    "    opset_version=11,\n",
    "    export_params=True,\n",
    "    do_constant_folding=True\n",
    ")\n"
   ]
  },
  {
   "cell_type": "code",
   "execution_count": 83,
   "id": "bda06470",
   "metadata": {},
   "outputs": [
    {
     "data": {
      "text/plain": [
       "<All keys matched successfully>"
      ]
     },
     "execution_count": 83,
     "metadata": {},
     "output_type": "execute_result"
    }
   ],
   "source": [
    "model = FashionCNN().to(device)\n",
    "model.load_state_dict(torch.load(\"model.pth\", weights_only=True))"
   ]
  },
  {
   "cell_type": "code",
   "execution_count": 84,
   "id": "4973b079",
   "metadata": {},
   "outputs": [
    {
     "name": "stdout",
     "output_type": "stream",
     "text": [
      "Predicted: \"1\", Actual: \"1\"\n"
     ]
    }
   ],
   "source": [
    "classes = [\n",
    "    \"0\",\n",
    "    \"1\",\n",
    "    \"2\",\n",
    "    \"3\",\n",
    "    \"4\",\n",
    "    \"5\",\n",
    "    \"6\",\n",
    "    \"7\",\n",
    "    \"8\",\n",
    "    \"9\",\n",
    "]\n",
    "\n",
    "model.eval()\n",
    "x, y = test_data[2][0], test_data[2][1]\n",
    "with torch.no_grad():\n",
    "    x = x.to(device)\n",
    "    pred = model(x)\n",
    "    predicted, actual = classes[pred[0].argmax(0)], classes[y]\n",
    "    print(f'Predicted: \"{predicted}\", Actual: \"{actual}\"')"
   ]
  }
 ],
 "metadata": {
  "kernelspec": {
   "display_name": ".venv",
   "language": "python",
   "name": "python3"
  },
  "language_info": {
   "codemirror_mode": {
    "name": "ipython",
    "version": 3
   },
   "file_extension": ".py",
   "mimetype": "text/x-python",
   "name": "python",
   "nbconvert_exporter": "python",
   "pygments_lexer": "ipython3",
   "version": "3.12.11"
  }
 },
 "nbformat": 4,
 "nbformat_minor": 5
}
